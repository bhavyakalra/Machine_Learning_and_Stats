{
 "cells": [
  {
   "cell_type": "code",
   "execution_count": 1,
   "metadata": {},
   "outputs": [
    {
     "data": {
      "text/html": [
       "<div>\n",
       "<style scoped>\n",
       "    .dataframe tbody tr th:only-of-type {\n",
       "        vertical-align: middle;\n",
       "    }\n",
       "\n",
       "    .dataframe tbody tr th {\n",
       "        vertical-align: top;\n",
       "    }\n",
       "\n",
       "    .dataframe thead th {\n",
       "        text-align: right;\n",
       "    }\n",
       "</style>\n",
       "<table border=\"1\" class=\"dataframe\">\n",
       "  <thead>\n",
       "    <tr style=\"text-align: right;\">\n",
       "      <th></th>\n",
       "      <th>Sr. No.</th>\n",
       "      <th>Registration/Enrollment No. of the student in your institution</th>\n",
       "      <th>Name of the Student</th>\n",
       "      <th>Organization Placed in</th>\n",
       "      <th>Salary Offered</th>\n",
       "    </tr>\n",
       "  </thead>\n",
       "  <tbody>\n",
       "    <tr>\n",
       "      <th>0</th>\n",
       "      <td>1</td>\n",
       "      <td>12CSU009</td>\n",
       "      <td>ADITYA PRAKASH SHARMA</td>\n",
       "      <td>RESTOR TECHNOLOGIES</td>\n",
       "      <td>5.0</td>\n",
       "    </tr>\n",
       "    <tr>\n",
       "      <th>1</th>\n",
       "      <td>2</td>\n",
       "      <td>12CSU030</td>\n",
       "      <td>ANURAG LOHOKNA</td>\n",
       "      <td>HBG KNOWLEDGE SERVICES</td>\n",
       "      <td>5.0</td>\n",
       "    </tr>\n",
       "    <tr>\n",
       "      <th>2</th>\n",
       "      <td>3</td>\n",
       "      <td>12CSU049</td>\n",
       "      <td>HARI OM</td>\n",
       "      <td>FLEXIELE CONSULTING SERVICES</td>\n",
       "      <td>5.0</td>\n",
       "    </tr>\n",
       "    <tr>\n",
       "      <th>3</th>\n",
       "      <td>4</td>\n",
       "      <td>12CSU068</td>\n",
       "      <td>MUKUL VERMA</td>\n",
       "      <td>BOOMBOX BREWSTREET</td>\n",
       "      <td>5.0</td>\n",
       "    </tr>\n",
       "    <tr>\n",
       "      <th>4</th>\n",
       "      <td>5</td>\n",
       "      <td>12CSU113</td>\n",
       "      <td>SHREYANS JAIN</td>\n",
       "      <td>FROG IDEAS</td>\n",
       "      <td>5.0</td>\n",
       "    </tr>\n",
       "  </tbody>\n",
       "</table>\n",
       "</div>"
      ],
      "text/plain": [
       "   Sr. No. Registration/Enrollment No. of the student in your institution  \\\n",
       "0        1                                           12CSU009               \n",
       "1        2                                           12CSU030               \n",
       "2        3                                           12CSU049               \n",
       "3        4                                           12CSU068               \n",
       "4        5                                           12CSU113               \n",
       "\n",
       "     Name of the Student        Organization Placed in  Salary Offered  \n",
       "0  ADITYA PRAKASH SHARMA          RESTOR TECHNOLOGIES              5.0  \n",
       "1        ANURAG LOHOKNA         HBG KNOWLEDGE SERVICES             5.0  \n",
       "2              HARI OM    FLEXIELE CONSULTING SERVICES             5.0  \n",
       "3            MUKUL VERMA            BOOMBOX BREWSTREET             5.0  \n",
       "4          SHREYANS JAIN                    FROG IDEAS             5.0  "
      ]
     },
     "execution_count": 1,
     "metadata": {},
     "output_type": "execute_result"
    }
   ],
   "source": [
    "import numpy as np\n",
    "import pandas as pd\n",
    "import matplotlib.pyplot as plt\n",
    "%matplotlib inline\n",
    "data1=pd.read_excel(\"/Users/apple/Desktop/ABHISHEK/Data Science/Group Project/Placement_data..xlsx\",sheet_name='2015-16')\n",
    "data1.head()"
   ]
  },
  {
   "cell_type": "code",
   "execution_count": 2,
   "metadata": {},
   "outputs": [
    {
     "data": {
      "text/html": [
       "<div>\n",
       "<style scoped>\n",
       "    .dataframe tbody tr th:only-of-type {\n",
       "        vertical-align: middle;\n",
       "    }\n",
       "\n",
       "    .dataframe tbody tr th {\n",
       "        vertical-align: top;\n",
       "    }\n",
       "\n",
       "    .dataframe thead th {\n",
       "        text-align: right;\n",
       "    }\n",
       "</style>\n",
       "<table border=\"1\" class=\"dataframe\">\n",
       "  <thead>\n",
       "    <tr style=\"text-align: right;\">\n",
       "      <th></th>\n",
       "      <th>Sr. No.</th>\n",
       "      <th>Registration/Enrollment No. of the student in your institution</th>\n",
       "      <th>Name of the Student</th>\n",
       "      <th>Organization Placed in</th>\n",
       "      <th>Salary Offered</th>\n",
       "    </tr>\n",
       "  </thead>\n",
       "  <tbody>\n",
       "    <tr>\n",
       "      <th>0</th>\n",
       "      <td>1</td>\n",
       "      <td>13CSU001</td>\n",
       "      <td>AADHAR JUNEJA</td>\n",
       "      <td>VARITE</td>\n",
       "      <td>5.0</td>\n",
       "    </tr>\n",
       "    <tr>\n",
       "      <th>1</th>\n",
       "      <td>2</td>\n",
       "      <td>13CSU013</td>\n",
       "      <td>AKSHAT GUPTA</td>\n",
       "      <td>MAGICTAP</td>\n",
       "      <td>5.0</td>\n",
       "    </tr>\n",
       "    <tr>\n",
       "      <th>2</th>\n",
       "      <td>3</td>\n",
       "      <td>13CSU017</td>\n",
       "      <td>AKSHAY KUMAR</td>\n",
       "      <td>YOU K16</td>\n",
       "      <td>5.0</td>\n",
       "    </tr>\n",
       "    <tr>\n",
       "      <th>3</th>\n",
       "      <td>4</td>\n",
       "      <td>13CSU032</td>\n",
       "      <td>BHUVAN DEV VASHISHT</td>\n",
       "      <td>WACOM INDIA</td>\n",
       "      <td>5.0</td>\n",
       "    </tr>\n",
       "    <tr>\n",
       "      <th>4</th>\n",
       "      <td>5</td>\n",
       "      <td>13CSU046</td>\n",
       "      <td>HARDIK ARORA</td>\n",
       "      <td>MAGICTAP</td>\n",
       "      <td>5.0</td>\n",
       "    </tr>\n",
       "  </tbody>\n",
       "</table>\n",
       "</div>"
      ],
      "text/plain": [
       "   Sr. No. Registration/Enrollment No. of the student in your institution  \\\n",
       "0        1                                           13CSU001               \n",
       "1        2                                           13CSU013               \n",
       "2        3                                           13CSU017               \n",
       "3        4                                           13CSU032               \n",
       "4        5                                           13CSU046               \n",
       "\n",
       "   Name of the Student Organization Placed in  Salary Offered  \n",
       "0        AADHAR JUNEJA                 VARITE             5.0  \n",
       "1         AKSHAT GUPTA               MAGICTAP             5.0  \n",
       "2         AKSHAY KUMAR                YOU K16             5.0  \n",
       "3  BHUVAN DEV VASHISHT            WACOM INDIA             5.0  \n",
       "4         HARDIK ARORA               MAGICTAP             5.0  "
      ]
     },
     "execution_count": 2,
     "metadata": {},
     "output_type": "execute_result"
    }
   ],
   "source": [
    "data2 = pd.read_excel(\"/Users/apple/Desktop/ABHISHEK/Data Science/Group Project/Placement_data..xlsx\",sheet_name='2016-17')\n",
    "data2.head()"
   ]
  },
  {
   "cell_type": "code",
   "execution_count": 3,
   "metadata": {},
   "outputs": [
    {
     "data": {
      "text/html": [
       "<div>\n",
       "<style scoped>\n",
       "    .dataframe tbody tr th:only-of-type {\n",
       "        vertical-align: middle;\n",
       "    }\n",
       "\n",
       "    .dataframe tbody tr th {\n",
       "        vertical-align: top;\n",
       "    }\n",
       "\n",
       "    .dataframe thead th {\n",
       "        text-align: right;\n",
       "    }\n",
       "</style>\n",
       "<table border=\"1\" class=\"dataframe\">\n",
       "  <thead>\n",
       "    <tr style=\"text-align: right;\">\n",
       "      <th></th>\n",
       "      <th>Sr. No.</th>\n",
       "      <th>Registration/Enrollment No. of the student in your institution</th>\n",
       "      <th>Name of the Student</th>\n",
       "      <th>Organization Placed in</th>\n",
       "      <th>Salary Offered</th>\n",
       "    </tr>\n",
       "  </thead>\n",
       "  <tbody>\n",
       "    <tr>\n",
       "      <th>0</th>\n",
       "      <td>1</td>\n",
       "      <td>14CVU005</td>\n",
       "      <td>ACHAL MANGLA</td>\n",
       "      <td>M3M</td>\n",
       "      <td>5.0</td>\n",
       "    </tr>\n",
       "    <tr>\n",
       "      <th>1</th>\n",
       "      <td>2</td>\n",
       "      <td>14CVU006</td>\n",
       "      <td>ANEESHA GURJER</td>\n",
       "      <td>G-Eng Advisory Services</td>\n",
       "      <td>5.0</td>\n",
       "    </tr>\n",
       "    <tr>\n",
       "      <th>2</th>\n",
       "      <td>3</td>\n",
       "      <td>14CVU010</td>\n",
       "      <td>ANUSHREE MISHRA</td>\n",
       "      <td>G-Eng Advisory Services</td>\n",
       "      <td>5.0</td>\n",
       "    </tr>\n",
       "    <tr>\n",
       "      <th>3</th>\n",
       "      <td>4</td>\n",
       "      <td>14CVU017</td>\n",
       "      <td>DEEPAK YADAV</td>\n",
       "      <td>Manomav Engineers</td>\n",
       "      <td>5.0</td>\n",
       "    </tr>\n",
       "    <tr>\n",
       "      <th>4</th>\n",
       "      <td>5</td>\n",
       "      <td>14CVU018</td>\n",
       "      <td>DIPANSH GUPTA</td>\n",
       "      <td>Manomav Engineers</td>\n",
       "      <td>5.0</td>\n",
       "    </tr>\n",
       "  </tbody>\n",
       "</table>\n",
       "</div>"
      ],
      "text/plain": [
       "   Sr. No. Registration/Enrollment No. of the student in your institution  \\\n",
       "0        1                                           14CVU005               \n",
       "1        2                                           14CVU006               \n",
       "2        3                                           14CVU010               \n",
       "3        4                                           14CVU017               \n",
       "4        5                                           14CVU018               \n",
       "\n",
       "  Name of the Student   Organization Placed in  Salary Offered  \n",
       "0        ACHAL MANGLA                      M3M             5.0  \n",
       "1     ANEESHA GURJER   G-Eng Advisory Services             5.0  \n",
       "2    ANUSHREE MISHRA   G-Eng Advisory Services             5.0  \n",
       "3       DEEPAK YADAV         Manomav Engineers             5.0  \n",
       "4      DIPANSH GUPTA         Manomav Engineers             5.0  "
      ]
     },
     "execution_count": 3,
     "metadata": {},
     "output_type": "execute_result"
    }
   ],
   "source": [
    "data3 = pd.read_excel(\"/Users/apple/Desktop/ABHISHEK/Data Science/Group Project/Placement_data..xlsx\",sheet_name='2017-18')\n",
    "data3.head()"
   ]
  },
  {
   "cell_type": "code",
   "execution_count": 4,
   "metadata": {},
   "outputs": [
    {
     "data": {
      "text/plain": [
       "0                          RESTOR TECHNOLOGIES \n",
       "1                        HBG KNOWLEDGE SERVICES\n",
       "2                  FLEXIELE CONSULTING SERVICES\n",
       "3                            BOOMBOX BREWSTREET\n",
       "4                                    FROG IDEAS\n",
       "5                                        MEDMAP\n",
       "6                            PANACEA HEALTHCARE\n",
       "7                MUNICIPAL CORPORATION GURGAON \n",
       "9                              DHRUV INTERIORS \n",
       "12                                   AUTHBRIDGE\n",
       "13                            AAR CEE CONTRACTS\n",
       "14                                    PROPTIGER\n",
       "16                                       JAINCO\n",
       "20                                 SOCIAL CURRY\n",
       "21                             HCL TECHNOLOGIES\n",
       "22                                         ICAT\n",
       "23                    DIFFERENTIAL TECHNOLOGIES\n",
       "25                                  GLOBALLOGIC\n",
       "26                      NINE DOT NINE MEDIAWORX\n",
       "28                         ULTIMATE SUN SYSTEMS\n",
       "29                       AKASHDEEP COLD STORAGE\n",
       "30                         VASUTECH AUTOMATIONS\n",
       "31                                  PICK A HOME\n",
       "33                             BOONESS SERVICES\n",
       "34                      JEEVANSONS PUBLICATIONS\n",
       "35                             ASAAN E-COMMERCE\n",
       "37                          TIMES INTERNET LTD.\n",
       "41            TALENT4ASSURE CONSULTING SERVICES\n",
       "42                         VISHESH TECHNOLOGIES\n",
       "44                                   BLISSANANO\n",
       "                         ...                   \n",
       "54                                          TCS\n",
       "57                     ORANGE BUSINESS SERVICES\n",
       "107                                      ORANGE\n",
       "161                        MANDO SOFTTECH INDIA\n",
       "165                                CITY HABITAT\n",
       "166                              SKC INFRATECH \n",
       "168                                    RELIANCE\n",
       "174    GURU RAM DASS (AUTOMOBILE BODY BUILDERS)\n",
       "175                NEWGEN SOFTWARE TECHNOLOGIES\n",
       "195                                      ORKASH\n",
       "196                                    EDYNAMIC\n",
       "197                                   EDYNAMIC \n",
       "208                                GLOBUS EIGHT\n",
       "218            EY GLOBAL DELIVERY NETWORK INDIA\n",
       "242                                       DENSO\n",
       "247                                      LIBSYS\n",
       "254                                  HR POLYCOT\n",
       "255                                 SEAFARRADAY\n",
       "256                                 WACOM INDIA\n",
       "257                                     SAPIENT\n",
       "274                                    FIDELITY\n",
       "286                     INSIGHT PLM CONSULTING \n",
       "288                                      CB & I\n",
       "293                    EXPEDITORS INTERNATIONAL\n",
       "294                            HONDA CARS INDIA\n",
       "298                              S&P CAPITAL IQ\n",
       "301                                      DAIKIN\n",
       "303                            GEMINI SOLUTIONS\n",
       "315                                   DELOITTE \n",
       "350                             MENTOR GRAPHICS\n",
       "Name: Organization Placed in, Length: 64, dtype: object"
      ]
     },
     "execution_count": 4,
     "metadata": {},
     "output_type": "execute_result"
    }
   ],
   "source": [
    "df1=data1.drop_duplicates(subset='Organization Placed in')\n",
    "df1['Organization Placed in']"
   ]
  },
  {
   "cell_type": "code",
   "execution_count": 5,
   "metadata": {},
   "outputs": [
    {
     "data": {
      "text/plain": [
       "0                               VARITE\n",
       "1                             MAGICTAP\n",
       "2                              YOU K16\n",
       "3                          WACOM INDIA\n",
       "5                   BRISTLECONE INDIA \n",
       "6                         GLOBUS EIGHT\n",
       "9                      BRITISH TELECOM\n",
       "11              TDI INFRASTRUCTURE LTD\n",
       "12                EARTH INFRASTRUCTURE\n",
       "15               SIEMENS INDIA LIMITED\n",
       "16          M/S DEVENDER CONSTRUCTIONS\n",
       "17             ACER BUILDERS PVT. LTD.\n",
       "18                    SMASH CONTRACTOR\n",
       "20                   BHILWARA INFOTECH\n",
       "22                         TECNO GAUGE\n",
       "23                             CADENCE\n",
       "25        GRANT THORTON AUDIT SERVICES\n",
       "31                    HCL TECHNOLOGIES\n",
       "33                     IBI CONSULTANCY\n",
       "45     NEW AGE INSTRUMENTS & MATERIALS\n",
       "48                       PLASSER INDIA\n",
       "51                             ARICENT\n",
       "52                                HCL \n",
       "53              HATCH TACT INNOVATIONS\n",
       "58            JACOBS ENGINEERING INDIA\n",
       "59                                  EY\n",
       "62                            NNS QMAX\n",
       "63                      NEST EDUCATION\n",
       "71                            GOSPORTO\n",
       "76        NOVUS SUPPLY CHAIN SOLUTIONS\n",
       "                    ...               \n",
       "205                VEGAZVA ENGINEERING\n",
       "207                  HOME CREDIT INDIA\n",
       "208                     CITY INNOVATES\n",
       "214                             ORKASH\n",
       "220              HINDUSTAN TIMES MEDIA\n",
       "221                 VDOIT TECHNOLOGIES\n",
       "222                               NHAI\n",
       "223                TRUECHIP SOLUTIONS \n",
       "224                     SAPPHIRE CONS.\n",
       "225                      CLICKSOFTWARE\n",
       "227                             DAIKIN\n",
       "230                   TOTAL IT CONSULT\n",
       "233                   EXPRESS ROADWAYS\n",
       "242             THINK & LEARN (BYJU'S)\n",
       "243                    NEWGEN SOFTWARE\n",
       "251            REAL TIME DATA SERVICES\n",
       "258                           FIDELITY\n",
       "259                             LIBSYS\n",
       "272                               CB&I\n",
       "273                           MOBIKWIK\n",
       "274                             36 LAB\n",
       "276          POLITICAL EDGE CONSULTING\n",
       "277                 MARUTI SUZUKI LTD.\n",
       "278                   GEMINI SOLUTIONS\n",
       "279                 MCKINSEY & COMPANY\n",
       "281                      THINK & LEARN\n",
       "283                           DELOITTE\n",
       "303                              HVPNL\n",
       "304                 AMAZON WEBSERVICES\n",
       "305                 THE VANGUARD GROUP\n",
       "Name: Organization Placed in, Length: 91, dtype: object"
      ]
     },
     "execution_count": 5,
     "metadata": {},
     "output_type": "execute_result"
    }
   ],
   "source": [
    "df2=data2.drop_duplicates(subset='Organization Placed in')\n",
    "df2['Organization Placed in']"
   ]
  },
  {
   "cell_type": "code",
   "execution_count": 6,
   "metadata": {},
   "outputs": [
    {
     "data": {
      "text/plain": [
       "0                                                    M3M\n",
       "1                                G-Eng Advisory Services\n",
       "3                                      Manomav Engineers\n",
       "5                            Ekta Group of Constructions\n",
       "6                               Windchimes Constructions\n",
       "7                COXWELL DOMES ENGINEERS PRIVATE LIMITED\n",
       "8                                  Bhavishya India Group\n",
       "10                                                  SGIT\n",
       "11                                          Social Curry\n",
       "12                                            TechJockey\n",
       "13                                      Online24x7 India\n",
       "14                       Knowlarity Communications India\n",
       "15                                Kellton Tech Solutions\n",
       "17                           Kellton Tech Solutions Ltd.\n",
       "22                                     Meyer Corporation\n",
       "23                                 TMI Staffing Services\n",
       "24                                      BOOK MY TOUR NOW\n",
       "26                                       Rivigo Services\n",
       "27                                           ChapterApps\n",
       "30            Vivo Mobile India/ Real Time Data Services\n",
       "31                                             IBI Group\n",
       "32                                   Exicom Tele-Systems\n",
       "33                                     Vivo Mobile India\n",
       "35                                                  ICAT\n",
       "36                  BOOK MY TOUR NOW / (PG-DIPLOMA CDAC)\n",
       "38                                 Cadence Design System\n",
       "42          Vivanta by Taj- The Ambassador (Khan Market)\n",
       "43                                         Hi-Tech Gears\n",
       "44                         TrueBlue Industrial Solutions\n",
       "46     Grid Infocom / (IIT-DHANBAD, NIT SILCHAR, PEC-...\n",
       "                             ...                        \n",
       "270                              Real Time Data Services\n",
       "283                                             Fidelity\n",
       "287                     Universal Technical Systems, Inc\n",
       "295                                               Libsys\n",
       "305                                           Orangewood\n",
       "308                                      Elevondata Labs\n",
       "309                                   Abroad Shiksha.com\n",
       "325                                     Gemini Solutions\n",
       "327                                  Zensar Technologies\n",
       "328       Stratbeans Consulting / Vihaan Network Limited\n",
       "329                                   Driftbase Software\n",
       "331                        Marsh India Insurance Brokers\n",
       "334                         SACHDEVA BUILDTECH PVT. LTD.\n",
       "335                        Nirankari Electrochem Pvt Ltd\n",
       "344                                              Edwisor\n",
       "346                                             Deloitte\n",
       "370                            Deloitte/ Mentor Graphics\n",
       "376                             Maruti Suzuki India Ltd.\n",
       "377                                                OPTUM\n",
       "381                 OPTUM - A UnitedHealth Group Company\n",
       "382                             Thoughtfocus- Blackstone\n",
       "383                                            Yatra.com\n",
       "384                                            yatra.com\n",
       "387                                                Intel\n",
       "388                                   Zero Point Leisure\n",
       "389                               Byju's (Think & Learn)\n",
       "391                    HSBC Software Development (India)\n",
       "392                                        ZS Associates\n",
       "393                                        Adobe Systems\n",
       "394          Indian Army's Military Engineering Services\n",
       "Name: Organization Placed in, Length: 145, dtype: object"
      ]
     },
     "execution_count": 6,
     "metadata": {},
     "output_type": "execute_result"
    }
   ],
   "source": [
    "df3=data3.drop_duplicates(subset='Organization Placed in')\n",
    "df3['Organization Placed in']"
   ]
  },
  {
   "cell_type": "code",
   "execution_count": 7,
   "metadata": {},
   "outputs": [
    {
     "name": "stdout",
     "output_type": "stream",
     "text": [
      "5.7 Lakh\n"
     ]
    }
   ],
   "source": [
    "print(data1['Salary Offered'].median(),'Lakh')"
   ]
  },
  {
   "cell_type": "code",
   "execution_count": 8,
   "metadata": {},
   "outputs": [
    {
     "data": {
      "text/html": [
       "<div>\n",
       "<style scoped>\n",
       "    .dataframe tbody tr th:only-of-type {\n",
       "        vertical-align: middle;\n",
       "    }\n",
       "\n",
       "    .dataframe tbody tr th {\n",
       "        vertical-align: top;\n",
       "    }\n",
       "\n",
       "    .dataframe thead th {\n",
       "        text-align: right;\n",
       "    }\n",
       "</style>\n",
       "<table border=\"1\" class=\"dataframe\">\n",
       "  <thead>\n",
       "    <tr style=\"text-align: right;\">\n",
       "      <th></th>\n",
       "      <th>Organization Placed in</th>\n",
       "      <th>Salary Offered</th>\n",
       "    </tr>\n",
       "  </thead>\n",
       "  <tbody>\n",
       "    <tr>\n",
       "      <th>298</th>\n",
       "      <td>S&amp;P CAPITAL IQ</td>\n",
       "      <td>7.50</td>\n",
       "    </tr>\n",
       "    <tr>\n",
       "      <th>301</th>\n",
       "      <td>DAIKIN</td>\n",
       "      <td>7.50</td>\n",
       "    </tr>\n",
       "    <tr>\n",
       "      <th>303</th>\n",
       "      <td>GEMINI SOLUTIONS</td>\n",
       "      <td>7.85</td>\n",
       "    </tr>\n",
       "    <tr>\n",
       "      <th>315</th>\n",
       "      <td>DELOITTE</td>\n",
       "      <td>8.20</td>\n",
       "    </tr>\n",
       "    <tr>\n",
       "      <th>350</th>\n",
       "      <td>MENTOR GRAPHICS</td>\n",
       "      <td>10.00</td>\n",
       "    </tr>\n",
       "  </tbody>\n",
       "</table>\n",
       "</div>"
      ],
      "text/plain": [
       "    Organization Placed in  Salary Offered\n",
       "298         S&P CAPITAL IQ            7.50\n",
       "301                 DAIKIN            7.50\n",
       "303       GEMINI SOLUTIONS            7.85\n",
       "315              DELOITTE             8.20\n",
       "350        MENTOR GRAPHICS           10.00"
      ]
     },
     "execution_count": 8,
     "metadata": {},
     "output_type": "execute_result"
    }
   ],
   "source": [
    "high_company1=data1[['Organization Placed in','Salary Offered']]\n",
    "high_company1.drop_duplicates().tail()"
   ]
  },
  {
   "cell_type": "code",
   "execution_count": 9,
   "metadata": {},
   "outputs": [
    {
     "data": {
      "text/plain": [
       "Text(0.5,1,'Highest Package Offered per Companies in 2015-16')"
      ]
     },
     "execution_count": 9,
     "metadata": {},
     "output_type": "execute_result"
    },
    {
     "data": {
      "image/png": "[encoded data removed]",
      "text/plain": [
       "<Figure size 432x288 with 1 Axes>"
      ]
     },
     "metadata": {},
     "output_type": "display_data"
    }
   ],
   "source": [
    "x=high_company1.tail().plot(kind='bar')\n",
    "x.set_xlabel(\"Company Name\", labelpad=20, weight='bold', size=15)\n",
    "x.set_ylabel(\"Highest Package Offered\", labelpad=20, weight='bold', size=15)\n",
    "x.set_title('Highest Package Offered per Companies in 2015-16')"
   ]
  },
  {
   "cell_type": "code",
   "execution_count": 10,
   "metadata": {},
   "outputs": [
    {
     "data": {
      "text/plain": [
       "TCS                                 91\n",
       "DELOITTE                            35\n",
       "EY GLOBAL DELIVERY NETWORK INDIA    24\n",
       "NEWGEN SOFTWARE TECHNOLOGIES        20\n",
       "SAPIENT                             17\n",
       "GEMINI SOLUTIONS                    12\n",
       "FIDELITY                            12\n",
       "ICAT                                12\n",
       "GLOBUS EIGHT                        10\n",
       "VEGAZVA GROUP                        9\n",
       "Name: Organization Placed in, dtype: int64"
      ]
     },
     "execution_count": 10,
     "metadata": {},
     "output_type": "execute_result"
    }
   ],
   "source": [
    "top_company1=data1['Organization Placed in'].value_counts()\n",
    "top_company1.head(10)"
   ]
  },
  {
   "cell_type": "code",
   "execution_count": 11,
   "metadata": {},
   "outputs": [
    {
     "data": {
      "text/plain": [
       "Text(0.5,1,'Most Students Placed per Companies in 2015-16')"
      ]
     },
     "execution_count": 11,
     "metadata": {},
     "output_type": "execute_result"
    },
    {
     "data": {
      "image/png": "[encoded data removed]",
      "text/plain": [
       "<Figure size 432x288 with 1 Axes>"
      ]
     },
     "metadata": {},
     "output_type": "display_data"
    }
   ],
   "source": [
    "a=top_company1.head(10).plot(kind='bar')\n",
    "a.set_xlabel(\"Company Placed in\", labelpad=20, weight='bold', size=15)\n",
    "a.set_ylabel(\"No. Students Placed\", labelpad=20, weight='bold', size=15)\n",
    "a.set_title('Most Students Placed per Companies in 2015-16')"
   ]
  },
  {
   "cell_type": "code",
   "execution_count": 12,
   "metadata": {},
   "outputs": [
    {
     "name": "stdout",
     "output_type": "stream",
     "text": [
      "5.8 Lakh\n"
     ]
    }
   ],
   "source": [
    "print(data2['Salary Offered'].median(),'Lakh')"
   ]
  },
  {
   "cell_type": "code",
   "execution_count": 13,
   "metadata": {},
   "outputs": [
    {
     "data": {
      "text/html": [
       "<div>\n",
       "<style scoped>\n",
       "    .dataframe tbody tr th:only-of-type {\n",
       "        vertical-align: middle;\n",
       "    }\n",
       "\n",
       "    .dataframe tbody tr th {\n",
       "        vertical-align: top;\n",
       "    }\n",
       "\n",
       "    .dataframe thead th {\n",
       "        text-align: right;\n",
       "    }\n",
       "</style>\n",
       "<table border=\"1\" class=\"dataframe\">\n",
       "  <thead>\n",
       "    <tr style=\"text-align: right;\">\n",
       "      <th></th>\n",
       "      <th>Organization Placed in</th>\n",
       "      <th>Salary Offered</th>\n",
       "    </tr>\n",
       "  </thead>\n",
       "  <tbody>\n",
       "    <tr>\n",
       "      <th>283</th>\n",
       "      <td>DELOITTE</td>\n",
       "      <td>8.2</td>\n",
       "    </tr>\n",
       "    <tr>\n",
       "      <th>302</th>\n",
       "      <td>MARUTI SUZUKI LTD.</td>\n",
       "      <td>8.4</td>\n",
       "    </tr>\n",
       "    <tr>\n",
       "      <th>303</th>\n",
       "      <td>HVPNL</td>\n",
       "      <td>8.4</td>\n",
       "    </tr>\n",
       "    <tr>\n",
       "      <th>304</th>\n",
       "      <td>AMAZON WEBSERVICES</td>\n",
       "      <td>10.0</td>\n",
       "    </tr>\n",
       "    <tr>\n",
       "      <th>305</th>\n",
       "      <td>THE VANGUARD GROUP</td>\n",
       "      <td>10.0</td>\n",
       "    </tr>\n",
       "  </tbody>\n",
       "</table>\n",
       "</div>"
      ],
      "text/plain": [
       "    Organization Placed in  Salary Offered\n",
       "283               DELOITTE             8.2\n",
       "302     MARUTI SUZUKI LTD.             8.4\n",
       "303                  HVPNL             8.4\n",
       "304     AMAZON WEBSERVICES            10.0\n",
       "305     THE VANGUARD GROUP            10.0"
      ]
     },
     "execution_count": 13,
     "metadata": {},
     "output_type": "execute_result"
    }
   ],
   "source": [
    "high_company2=data2[['Organization Placed in','Salary Offered']]\n",
    "high_company2.drop_duplicates().tail()"
   ]
  },
  {
   "cell_type": "code",
   "execution_count": 14,
   "metadata": {},
   "outputs": [
    {
     "data": {
      "text/plain": [
       "Text(0.5,1,'Highest Package Offered per Companies in 2016-17')"
      ]
     },
     "execution_count": 14,
     "metadata": {},
     "output_type": "execute_result"
    },
    {
     "data": {
      "image/png": "[encoded data removed]",
      "text/plain": [
       "<Figure size 432x288 with 1 Axes>"
      ]
     },
     "metadata": {},
     "output_type": "display_data"
    }
   ],
   "source": [
    "y=high_company2.tail().plot(kind='bar')\n",
    "y.set_xlabel(\"Company Name\", labelpad=20, weight='bold', size=15)\n",
    "y.set_ylabel(\"Highest Package Offered\", labelpad=20, weight='bold', size=15)\n",
    "y.set_title('Highest Package Offered per Companies in 2016-17')"
   ]
  },
  {
   "cell_type": "code",
   "execution_count": 15,
   "metadata": {},
   "outputs": [
    {
     "data": {
      "text/plain": [
       "ERICSSON                     27\n",
       "BRITISH TELECOM              24\n",
       "DELOITTE                     19\n",
       "GLOBUS EIGHT                 16\n",
       "EY                           12\n",
       "FIDELITY                     11\n",
       "EXPRESS ROADWAYS              9\n",
       "ORANGE BUSINESS SERVICES      8\n",
       "NEWGEN SOFTWARE               8\n",
       "REAL TIME DATA SERVICES       7\n",
       "Name: Organization Placed in, dtype: int64"
      ]
     },
     "execution_count": 15,
     "metadata": {},
     "output_type": "execute_result"
    }
   ],
   "source": [
    "top_company2=data2['Organization Placed in'].value_counts()\n",
    "top_company2.head(10)"
   ]
  },
  {
   "cell_type": "code",
   "execution_count": 16,
   "metadata": {},
   "outputs": [
    {
     "data": {
      "text/plain": [
       "Text(0.5,1,'Most Students Placed per Companies in 2016-17')"
      ]
     },
     "execution_count": 16,
     "metadata": {},
     "output_type": "execute_result"
    },
    {
     "data": {
      "image/png": "[encoded data removed]",
      "text/plain": [
       "<Figure size 432x288 with 1 Axes>"
      ]
     },
     "metadata": {},
     "output_type": "display_data"
    }
   ],
   "source": [
    "b=top_company2.head(10).plot(kind='bar')\n",
    "b.set_xlabel(\"Company Placed in\", labelpad=20, weight='bold', size=15)\n",
    "b.set_ylabel(\"Students Placed\", labelpad=20, weight='bold', size=15)\n",
    "b.set_title('Most Students Placed per Companies in 2016-17')"
   ]
  },
  {
   "cell_type": "code",
   "execution_count": 17,
   "metadata": {},
   "outputs": [
    {
     "name": "stdout",
     "output_type": "stream",
     "text": [
      "6.0 Lakh\n"
     ]
    }
   ],
   "source": [
    "print(data3['Salary Offered'].median(),'Lakh')"
   ]
  },
  {
   "cell_type": "code",
   "execution_count": 18,
   "metadata": {},
   "outputs": [
    {
     "data": {
      "text/html": [
       "<div>\n",
       "<style scoped>\n",
       "    .dataframe tbody tr th:only-of-type {\n",
       "        vertical-align: middle;\n",
       "    }\n",
       "\n",
       "    .dataframe tbody tr th {\n",
       "        vertical-align: top;\n",
       "    }\n",
       "\n",
       "    .dataframe thead th {\n",
       "        text-align: right;\n",
       "    }\n",
       "</style>\n",
       "<table border=\"1\" class=\"dataframe\">\n",
       "  <thead>\n",
       "    <tr style=\"text-align: right;\">\n",
       "      <th></th>\n",
       "      <th>Organization Placed in</th>\n",
       "      <th>Salary Offered</th>\n",
       "    </tr>\n",
       "  </thead>\n",
       "  <tbody>\n",
       "    <tr>\n",
       "      <th>389</th>\n",
       "      <td>Byju's (Think &amp; Learn)</td>\n",
       "      <td>11.0</td>\n",
       "    </tr>\n",
       "    <tr>\n",
       "      <th>391</th>\n",
       "      <td>HSBC Software Development (India)</td>\n",
       "      <td>14.0</td>\n",
       "    </tr>\n",
       "    <tr>\n",
       "      <th>392</th>\n",
       "      <td>ZS Associates</td>\n",
       "      <td>14.0</td>\n",
       "    </tr>\n",
       "    <tr>\n",
       "      <th>393</th>\n",
       "      <td>Adobe Systems</td>\n",
       "      <td>17.0</td>\n",
       "    </tr>\n",
       "    <tr>\n",
       "      <th>394</th>\n",
       "      <td>Indian Army's Military Engineering Services</td>\n",
       "      <td>20.0</td>\n",
       "    </tr>\n",
       "  </tbody>\n",
       "</table>\n",
       "</div>"
      ],
      "text/plain": [
       "                          Organization Placed in  Salary Offered\n",
       "389                       Byju's (Think & Learn)            11.0\n",
       "391            HSBC Software Development (India)            14.0\n",
       "392                                ZS Associates            14.0\n",
       "393                                Adobe Systems            17.0\n",
       "394  Indian Army's Military Engineering Services            20.0"
      ]
     },
     "execution_count": 18,
     "metadata": {},
     "output_type": "execute_result"
    }
   ],
   "source": [
    "high_company3=data3[['Organization Placed in','Salary Offered']]\n",
    "high_company3.drop_duplicates().tail()"
   ]
  },
  {
   "cell_type": "code",
   "execution_count": 19,
   "metadata": {},
   "outputs": [
    {
     "data": {
      "text/plain": [
       "Text(0.5,1,'Highest Package Offered per Companies in 2017-18')"
      ]
     },
     "execution_count": 19,
     "metadata": {},
     "output_type": "execute_result"
    },
    {
     "data": {
      "image/png": "[encoded data removed]",
      "text/plain": [
       "<Figure size 432x288 with 1 Axes>"
      ]
     },
     "metadata": {},
     "output_type": "display_data"
    }
   ],
   "source": [
    "z=high_company3.tail().plot(kind='bar')\n",
    "z.set_xlabel(\"Company Name\", labelpad=20, weight='bold', size=15)\n",
    "z.set_ylabel(\"Highest Package Offered\", labelpad=20, weight='bold', size=15)\n",
    "z.set_title('Highest Package Offered per Companies in 2017-18')"
   ]
  },
  {
   "cell_type": "code",
   "execution_count": 20,
   "metadata": {},
   "outputs": [
    {
     "data": {
      "text/plain": [
       "Deloitte                       29\n",
       "Fidelity                       16\n",
       "Abroad Shiksha.com             16\n",
       "Real Time Data Services        13\n",
       "Family Business                11\n",
       "British Telecom                10\n",
       "EY Global Delivery Services    10\n",
       "Sagacious Research              9\n",
       "Globus Eight                    9\n",
       "AVL India                       9\n",
       "Name: Organization Placed in, dtype: int64"
      ]
     },
     "execution_count": 20,
     "metadata": {},
     "output_type": "execute_result"
    }
   ],
   "source": [
    "top_company3=data3['Organization Placed in'].value_counts()\n",
    "top_company3.head(10)"
   ]
  },
  {
   "cell_type": "code",
   "execution_count": 21,
   "metadata": {},
   "outputs": [
    {
     "data": {
      "text/plain": [
       "Text(0.5,1,'Most Students Placed per Companies 2017-18')"
      ]
     },
     "execution_count": 21,
     "metadata": {},
     "output_type": "execute_result"
    },
    {
     "data": {
      "image/png": "[encoded data removed]",
      "text/plain": [
       "<Figure size 432x288 with 1 Axes>"
      ]
     },
     "metadata": {},
     "output_type": "display_data"
    }
   ],
   "source": [
    "c=top_company3.head(10).plot(kind='bar')\n",
    "c.set_xlabel(\"Company Placed in\", labelpad=20, weight='bold', size=15)\n",
    "c.set_ylabel(\"Students Placed\", labelpad=20, weight='bold', size=15)\n",
    "c.set_title('Most Students Placed per Companies 2017-18')"
   ]
  },
  {
   "cell_type": "code",
   "execution_count": 22,
   "metadata": {},
   "outputs": [
    {
     "data": {
      "image/png": "[encoded data removed]",
      "text/plain": [
       "<Figure size 432x288 with 1 Axes>"
      ]
     },
     "metadata": {},
     "output_type": "display_data"
    }
   ],
   "source": [
    "plt.barh(['2015-16','2016-17','2017-18'],\n",
    "        [max(data1['Salary Offered']),\n",
    "         max(data2['Salary Offered']),\n",
    "         max(data3['Salary Offered'])])\n",
    "plt.ylabel('YEARS', fontsize=15, weight='bold')\n",
    "plt.xlabel('Highest Package', fontsize=15 , weight='bold')\n",
    "plt.title('Package Comparision Over Years', fontsize=15 , weight='bold')\n",
    "plt.show()"
   ]
  },
  {
   "cell_type": "code",
   "execution_count": 23,
   "metadata": {},
   "outputs": [
    {
     "name": "stdout",
     "output_type": "stream",
     "text": [
      "Enter the Batch - 2015-16\n",
      "Enter the company name to be searched - ICAT\n",
      "company exist\n"
     ]
    }
   ],
   "source": [
    "year=(input(\"Enter the Batch - \"))\n",
    "company=input(\"Enter the company name to be searched - \")\n",
    "if year=='2015-16':\n",
    "     if company in list(data1['Organization Placed in']):\n",
    "            print(\"company exist\")\n",
    "     else:    \n",
    "            print(\"not exist\")\n",
    "elif year=='2016-17':\n",
    "     if company in list(data2['Organization Placed in']):\n",
    "            print(\"company exist\")\n",
    "     else:    \n",
    "            print(\"not exist\")            \n",
    "elif year=='2017-18':\n",
    "     if company in list(data3['Organization Placed in']):\n",
    "            print(\"company exist\")\n",
    "     else:    \n",
    "            print(\"not exist\")"
   ]
  },
  {
   "cell_type": "code",
   "execution_count": null,
   "metadata": {},
   "outputs": [],
   "source": []
  }
 ],
 "metadata": {
  "kernelspec": {
   "display_name": "Python 3",
   "language": "python",
   "name": "python3"
  },
  "language_info": {
   "codemirror_mode": {
    "name": "ipython",
    "version": 3
   },
   "file_extension": ".py",
   "mimetype": "text/x-python",
   "name": "python",
   "nbconvert_exporter": "python",
   "pygments_lexer": "ipython3",
   "version": "3.7.3"
  }
 },
 "nbformat": 4,
 "nbformat_minor": 2
}
